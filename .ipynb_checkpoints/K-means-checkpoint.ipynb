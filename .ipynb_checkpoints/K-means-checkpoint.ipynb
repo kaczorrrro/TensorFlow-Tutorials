{
 "cells": [
  {
   "cell_type": "code",
   "execution_count": 1,
   "metadata": {
    "collapsed": true
   },
   "outputs": [],
   "source": [
    "import tensorflow as tf\n",
    "import numpy as np\n",
    "import matplotlib.pyplot as plt"
   ]
  },
  {
   "cell_type": "code",
   "execution_count": 2,
   "metadata": {},
   "outputs": [],
   "source": [
    "def create_samples(n_clusters, n_samples_per_cluster, n_features, embiggen, seed):\n",
    "    slices = []\n",
    "    centroids = []\n",
    "    temp_cent = ((0,0),(10,10),(-10,-10))\n",
    "    for i in range(n_clusters):\n",
    "        current_centroid = tf.constant(np.random.rand(1, n_features) * embiggen * 2 - embiggen,\n",
    "                                       dtype=tf.float32, name=\"centroid_{}\".format(i))\n",
    "        samples = tf.random_normal((n_samples_per_cluster, n_features),\n",
    "                                   mean=0.0, stddev=10.0, dtype=tf.float32, seed=seed, name=\"cluster_{}\".format(i))\n",
    "\n",
    "\n",
    "        #current_centroid = tf.constant(temp_cent[i], dtype=tf.float32, shape=(1,2))\n",
    "        centroids.append(current_centroid)\n",
    "        samples+=current_centroid\n",
    "        slices.append(samples)\n",
    "    samples = tf.concat(slices, 0, name='samples')\n",
    "    centroids = tf.concat(centroids, 0, name=\"centroids\")\n",
    "    return centroids, samples"
   ]
  },
  {
   "cell_type": "code",
   "execution_count": 3,
   "metadata": {
    "collapsed": true
   },
   "outputs": [],
   "source": [
    "def plot_clusters(all_samples, centroids, n_samples_per_cluster):\n",
    "    color = plt.cm.rainbow(np.linspace(0,1, len(centroids)))\n",
    "    for i, centroid in enumerate(centroids):\n",
    "        samples = all_samples[i*n_samples_per_cluster: (i+1)*n_samples_per_cluster]\n",
    "        plt.scatter(samples[:,0], samples[:,1], c=color[i])\n",
    "        plt.plot(centroid[0], centroid[1], markersize=35, marker=\"x\", color='k', mew=10)\n",
    "        plt.plot(centroid[0], centroid[1], markersize=35, marker=\"x\", color='m', mew=5)\n",
    "    plt.show()\n",
    "    "
   ]
  },
  {
   "cell_type": "code",
   "execution_count": 4,
   "metadata": {},
   "outputs": [],
   "source": [
    "# def choose_random_centroids(samples, n_clusters):\n",
    "#     #n_samples = tf.shape(samples)[0]\n",
    "#     n_samples = samples.shape.as_list()[0]\n",
    "#     indexes = np.random.randint(0, n_samples, n_clusters)\n",
    "#     return tf.gather(samples, indexes)\n",
    "\n",
    "def choose_random_centroids(samples, n_clusters):\n",
    "    n_features = tf.shape(samples)[1]\n",
    "    return tf.random_crop(samples, (n_clusters,n_features))\n"
   ]
  },
  {
   "cell_type": "code",
   "execution_count": 5,
   "metadata": {},
   "outputs": [],
   "source": [
    "def assign_to_nearest(samples, centroids):\n",
    "    exp_vectors = tf.expand_dims(samples, 0)\n",
    "    exp_centroids = tf.expand_dims(centroids, 1)\n",
    "    distances = tf.reduce_sum((exp_vectors-exp_centroids)**2, 2)\n",
    "    mins = tf.argmin(distances, 0)\n",
    "    return mins\n",
    "    "
   ]
  },
  {
   "cell_type": "code",
   "execution_count": 6,
   "metadata": {},
   "outputs": [],
   "source": [
    "def compute_new_centroids(samples, nearest_indices, n_clusters):\n",
    "    nearest_indices = tf.to_int32(nearest_indices)\n",
    "    partitions = tf.dynamic_partition(samples, nearest_indices, n_clusters)\n",
    "    new_centroids = tf.concat([tf.expand_dims(tf.reduce_mean(partition, 0),0) for partition in partitions], 0)\n",
    "    return new_centroids"
   ]
  },
  {
   "cell_type": "code",
   "execution_count": 7,
   "metadata": {
    "collapsed": true
   },
   "outputs": [],
   "source": [
    "n_features = 2\n",
    "n_clusters = 3\n",
    "n_samples_per_cluster = 500\n",
    "seed = 700\n",
    "embiggen_factor = 40\n",
    "np.random.seed(seed)"
   ]
  },
  {
   "cell_type": "code",
   "execution_count": 8,
   "metadata": {},
   "outputs": [],
   "source": [
    "centroids, samples = create_samples(n_clusters, n_samples_per_cluster, n_features, embiggen_factor, seed)\n",
    "initial_centroids = choose_random_centroids(samples, 3)\n",
    "current_centroids = initial_centroids\n",
    "#s = tf.InteractiveSession()"
   ]
  },
  {
   "cell_type": "code",
   "execution_count": 9,
   "metadata": {
    "scrolled": true
   },
   "outputs": [],
   "source": [
    "model = tf.global_variables_initializer()\n",
    "for i in range(40):\n",
    "        nearest_indices = assign_to_nearest(samples, current_centroids)\n",
    "        current_centroids = compute_new_centroids(samples, nearest_indices, n_clusters)"
   ]
  },
  {
   "cell_type": "code",
   "execution_count": null,
   "metadata": {
    "collapsed": true
   },
   "outputs": [],
   "source": [
    "with tf.Session() as s:\n",
    "    s.run(model)\n",
    "    sample_values, initial_centroid_values, final_centroid_values = s.run([samples, initial_centroids,current_centroids])\n",
    "    plot_clusters(sample_values, centroid_values, n_samples_per_cluster)\n",
    "    plot_clusters(sample_values, final_centroid_values, n_samples_per_cluster)"
   ]
  },
  {
   "cell_type": "code",
   "execution_count": 10,
   "metadata": {},
   "outputs": [],
   "source": [
    "with tf.Session() as s:\n",
    "    merged = tf.summary.merge_all()\n",
    "    writer = tf.summary.FileWriter(\"basic\", s.graph)"
   ]
  },
  {
   "cell_type": "code",
   "execution_count": null,
   "metadata": {},
   "outputs": [],
   "source": [
    "\n",
    "    \n",
    "\n",
    "import tensorflow as tf\n",
    "from tensorflow.python.client import timeline\n",
    "\n",
    "x = tf.random_normal([5000, 5000], dtype=tf.float64)\n",
    "y = tf.random_normal([5000, 5000], dtype=tf.float64)\n",
    "res = tf.matmul(x, y)\n",
    "\n",
    "# Run the graph with full trace option\n",
    "sess = tf.Session(config=tf.ConfigProto(\n",
    "  intra_op_parallelism_threads=10))\n",
    "\n",
    "run_options = tf.RunOptions(trace_level=tf.RunOptions.FULL_TRACE)\n",
    "run_metadata = tf.RunMetadata()\n",
    "sess.run(res, options=run_options, run_metadata=run_metadata)\n",
    "\n",
    "# Create the Timeline object, and write it to a json\n",
    "tl = timeline.Timeline(run_metadata.step_stats)\n",
    "ctf = tl.generate_chrome_trace_format()\n",
    "with open('timeline.json', 'w') as f:\n",
    "    f.write(ctf)\n"
   ]
  },
  {
   "cell_type": "code",
   "execution_count": null,
   "metadata": {
    "collapsed": true
   },
   "outputs": [],
   "source": []
  }
 ],
 "metadata": {
  "kernelspec": {
   "display_name": "Python 3",
   "language": "python",
   "name": "python3"
  },
  "language_info": {
   "codemirror_mode": {
    "name": "ipython",
    "version": 3
   },
   "file_extension": ".py",
   "mimetype": "text/x-python",
   "name": "python",
   "nbconvert_exporter": "python",
   "pygments_lexer": "ipython3",
   "version": "3.5.3"
  }
 },
 "nbformat": 4,
 "nbformat_minor": 2
}
